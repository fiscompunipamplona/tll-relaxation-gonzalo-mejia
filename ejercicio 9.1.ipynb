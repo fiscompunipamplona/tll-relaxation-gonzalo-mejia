{
 "cells": [
  {
   "cell_type": "code",
   "execution_count": 1,
   "metadata": {},
   "outputs": [],
   "source": [
    "from numpy import sqrt, zeros\n",
    "from pylab import imshow, show, gray"
   ]
  },
  {
   "cell_type": "code",
   "execution_count": 2,
   "metadata": {},
   "outputs": [],
   "source": [
    "# Constantes\n",
    "epsilon_0 = 1\n",
    "L = 1  # en metros\n",
    "N = 100  # número de puntos de cuadrícula en un lado\n",
    "a = L / N  # espaciado de punto de cuadrícula\n",
    "rho_0 = 1 / sqrt(8.8541 * 10 ** -12)  # densidad de carga escalada por sqrt (epsilon_0) (en SI), entonces epsilon_0 = 1\n",
    "delta = 10 ** -6"
   ]
  },
  {
   "cell_type": "code",
   "execution_count": null,
   "metadata": {},
   "outputs": [],
   "source": [
    "def rho(i, j):\n",
    "    if 20 < i < 40 and 60 < j < 80:\n",
    "        return rho_0\n",
    "    elif 60 < i < 80 and 20 < j < 40:\n",
    "        return -rho_0\n",
    "    else:\n",
    "        return 0\n",
    "\n",
    "# test = zeros([N+1,N+1], float)\n",
    "# for i in range(N):\n",
    "#     for j in range(N):\n",
    "#         test[i,j] = rho(i,j)\n",
    "# imshow(test)\n",
    "# gray()\n",
    "# show()\n",
    "\n",
    "def larger(a, b):\n",
    "    if a >= b:\n",
    "        return a\n",
    "    else:\n",
    "        return b\n",
    "\n",
    "# Solución de la ecuación de Poisson usando el método de relajación de Gauss-Seidel\n",
    "\n",
    "max_diff = 2 * delta\n",
    "\n",
    "# iniciando matriz\n",
    "phi = zeros([N + 1, N + 1], float)\n",
    "\n",
    "while max_diff > delta:\n",
    "    #  restablecer la diferencia máxima después de cada actualización completa de la cuadrícula\n",
    "    max_diff = 0.0\n",
    "    for i in range(N + 1):\n",
    "        for j in range(N + 1):\n",
    "            if not i == 0 and not j == 0 and not i == N and not j == N:\n",
    "                old_phi = phi[i,j]\n",
    "                new_phi = (phi[i + 1, j] + phi[i - 1, j] + phi[i, j + 1] + phi[i, j - 1] \\\n",
    "                             + a ** 2 / 4 * rho(i, j)) / 4\n",
    "                phi[i, j] = new_phi\n",
    "\n",
    "                # teniendo en cuenta el mayor cambio en phi en esta actualización de la cuadrícula\n",
    "                max_diff = larger(max_diff, abs(new_phi - old_phi))\n",
    "    # print(\"max_diff = \", max_diff)\n"
   ]
  },
  {
   "cell_type": "code",
   "execution_count": null,
   "metadata": {},
   "outputs": [],
   "source": [
    "imshow(phi)\n",
    "gray()\n",
    "show()"
   ]
  },
  {
   "cell_type": "code",
   "execution_count": null,
   "metadata": {},
   "outputs": [],
   "source": []
  }
 ],
 "metadata": {
  "kernelspec": {
   "display_name": "Python 3",
   "language": "python",
   "name": "python3"
  },
  "language_info": {
   "codemirror_mode": {
    "name": "ipython",
    "version": 3
   },
   "file_extension": ".py",
   "mimetype": "text/x-python",
   "name": "python",
   "nbconvert_exporter": "python",
   "pygments_lexer": "ipython3",
   "version": "3.5.2"
  }
 },
 "nbformat": 4,
 "nbformat_minor": 2
}
